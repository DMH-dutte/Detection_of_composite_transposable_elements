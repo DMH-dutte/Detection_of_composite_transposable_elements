{
 "cells": [
  {
   "cell_type": "markdown",
   "metadata": {},
   "source": [
    "# Detection of composite transposable elements \n",
    "## Notebook 1: Data Preparation\n",
    "## Description:\n",
    "Transposable elements are sequences in genomes that can change their position in the genome and that is also the reason why they are colloquially called “jumping genes”. They are able to affect the composition and size of genetic replicons. Our research interest in this project are composite transposable elements, which are flanked by two inverted repeats and transposable elements. Composite transposable elements are moving as one unit within a genome and are copying and inserting genes enclosed by itself. The following traits of composite transposable elements are making the detection challenging: \n",
    "\n",
    "1. Sometimes terminal information such as repeats or transposable elements are missing, which would define the boundaries of a composite transposable element.\n",
    "2. Composite transposable elements are diverse in their genetic composition and size. \n",
    "\n",
    "Composite transposable elements are usually associated with essential and indispensable genes, which are having a high gene frequency across genomes. We hypothesize that the genetic frequency landscape of a genetic element will follow a particular pattern, which can be used as a marker for putative regions of composite transposable elements. Thus, we are representing here an approach to detect regions of putative composite transposable elements using gene frequencies, protein family clusters and positions of composite transposable elements as input for a supervised LSTM-based neural network model. "
   ]
  },
  {
   "cell_type": "markdown",
   "metadata": {},
   "source": [
    "### Project Repo \n",
    "* add own github link"
   ]
  },
  {
   "cell_type": "markdown",
   "metadata": {},
   "source": [
    "## Participants:\n",
    "Dustin Martin Hanke: dhanke@ifam.uni-kiel.de\n",
    "\n",
    "Wang Yiging: ywang@ifam.uni-kiel.de "
   ]
  },
  {
   "cell_type": "markdown",
   "metadata": {},
   "source": [
    "### Course and Semester\n",
    "Machine Learning with TensorFlow - Wintersemester 2021/2022"
   ]
  },
  {
   "cell_type": "markdown",
   "metadata": {},
   "source": [
    "### License\n",
    "If you are releasing the software under some certain license, you can mention it and also include the `LICENSE.md` file in the folder\n",
    "\n",
    "---"
   ]
  },
  {
   "cell_type": "markdown",
   "metadata": {},
   "source": [
    "### Imports:"
   ]
  },
  {
   "cell_type": "code",
   "execution_count": 1,
   "metadata": {},
   "outputs": [],
   "source": [
    "import os\n",
    "import random\n",
    "import pandas as pd\n",
    "import numpy as np \n",
    "import seaborn as sns\n",
    "import matplotlib.pyplot as plt"
   ]
  },
  {
   "cell_type": "code",
   "execution_count": 3,
   "metadata": {},
   "outputs": [],
   "source": [
    "# Positions of composite transposable elements on contigs:\n",
    "df_labels = pd.read_csv('../../tn.contig.filter.tsv', sep='\\t')"
   ]
  },
  {
   "cell_type": "markdown",
   "metadata": {},
   "source": [
    "### CDF plot of sizes of composite transposable elements:\n",
    "* Here we see the Proportion of composite TE lengths (in number of proteins). The major part of the data are small fragments of composite transposable elements (80 % have a length of 2 proteins)"
   ]
  },
  {
   "cell_type": "code",
   "execution_count": 4,
   "metadata": {},
   "outputs": [
    {
     "name": "stdout",
     "output_type": "stream",
     "text": [
      "The maximum protein number of a composite TE: 23\n"
     ]
    },
    {
     "data": {
      "image/png": "[encoded data removed]",
      "text/plain": [
       "<Figure size 432x288 with 1 Axes>"
      ]
     },
     "metadata": {
      "needs_background": "light"
     },
     "output_type": "display_data"
    }
   ],
   "source": [
    "# Input data overview:\n",
    "print(\"The maximum protein number of a composite TE: {}\".format(df_labels[\"len\"].max()))\n",
    "# CDF plot: Number of proteins determining a composite transposable element\n",
    "ax = sns.ecdfplot(df_labels, x='len')\n",
    "ax.set(xlabel='Number of proteins', ylabel='Proportion')\n",
    "plt.show()"
   ]
  },
  {
   "cell_type": "markdown",
   "metadata": {},
   "source": [
    "### Gene frequency data:\n",
    "* The gene frequency data is going to be converted into the right format and the length of the contigs is going to be observed."
   ]
  },
  {
   "cell_type": "code",
   "execution_count": 6,
   "metadata": {},
   "outputs": [
    {
     "name": "stdout",
     "output_type": "stream",
     "text": [
      "Number of contigs (genetic elements): 9227\n"
     ]
    }
   ],
   "source": [
    "training_path = os.path.join(\"../../contigs_freq/\")\n",
    "print(\"Number of contigs (genetic elements): {}\".format(len(os.listdir(training_path))))\n",
    "def read_freq_patterns(path, files):\n",
    "    '''\n",
    "    Reads in frequency data per file in a given directory\n",
    "    and calculates the length of a\n",
    "    genomic sequence (contig). \n",
    "    Returns a list of all contig lengths.\n",
    "    '''\n",
    "    lengths = list()\n",
    "    for file in files:\n",
    "        tmp_df = pd.read_csv(os.path.join(path, file), sep='\\t')\n",
    "        index_len = len(tmp_df.index)\n",
    "        lengths.append(index_len)\n",
    "    return lengths\n",
    "\n",
    "files = [x for x in os.listdir(training_path) if not x.startswith(\".\")] #all input files\n",
    "lengths = read_freq_patterns(training_path, files) #returns length list\n",
    "train_all = pd.DataFrame(data={\"lengths\":lengths}) #converts list into a dataframe"
   ]
  },
  {
   "cell_type": "code",
   "execution_count": 7,
   "metadata": {},
   "outputs": [
    {
     "name": "stdout",
     "output_type": "stream",
     "text": [
      "Maximum number of proteins on a contigs: 5818\n"
     ]
    },
    {
     "data": {
      "image/png": "[encoded data removed]",
      "text/plain": [
       "<Figure size 432x288 with 1 Axes>"
      ]
     },
     "metadata": {
      "needs_background": "light"
     },
     "output_type": "display_data"
    }
   ],
   "source": [
    "# CDF plot of contig lengths (how many proteins):\n",
    "print(\"Maximum number of proteins on a contigs: {}\".format(train_all[\"lengths\"].max()))\n",
    "ax = sns.ecdfplot(train_all, x='lengths')\n",
    "ax.set(xlabel='Number of proteins on contigs', ylabel='Proportion')\n",
    "plt.show()"
   ]
  },
  {
   "cell_type": "markdown",
   "metadata": {},
   "source": [
    "### MCL clustering data - convert clusters into integers and creates a dictionary:"
   ]
  },
  {
   "cell_type": "code",
   "execution_count": 8,
   "metadata": {},
   "outputs": [
    {
     "name": "stdout",
     "output_type": "stream",
     "text": [
      "The number of unique mcl clusters: 32634\n"
     ]
    }
   ],
   "source": [
    "# All contig ids/files\n",
    "all_files = [x.split('.')[0] for x in os.listdir(\"../../contigs_freq/\") if not x.startswith('.')]\n",
    "all_mcls = set()\n",
    "for file in all_files:\n",
    "    t = pd.read_csv(os.path.join(\"../../contigs_func/{}.fasta\".format(file)), sep='\\t')\n",
    "    for mcl in t.index:\n",
    "        all_mcls.add(mcl)\n",
    "        \n",
    "print(\"The number of unique mcl clusters: {}\".format(len(all_mcls)))\n",
    "all_mcls = list(all_mcls)\n",
    "\n",
    "# Convert into dictionary for mapping to dataframe\n",
    "mcl_dict = {}\n",
    "for i in range(0, len(all_mcls)):\n",
    "    mcl_dict[i] = 0\n",
    "\n",
    "for key, value in mcl_dict.items():\n",
    "    mcl_dict[key] = all_mcls[key]\n",
    "    \n",
    "mcl_dic = dict((v,k) for k,v in mcl_dict.items())"
   ]
  },
  {
   "cell_type": "markdown",
   "metadata": {},
   "source": [
    "### Functions to transform the data into overlapping chunks/fragments:"
   ]
  },
  {
   "cell_type": "code",
   "execution_count": 16,
   "metadata": {},
   "outputs": [],
   "source": [
    "def freq_to_float(contig):\n",
    "    '''\n",
    "    Reads in the frequency data of a table.\n",
    "    Converts the index into a float sequence containing \n",
    "    the frequency data.\n",
    "    Returns the frequency data as a list.\n",
    "    '''\n",
    "    # Training data:\n",
    "    training = pd.read_csv(os.path.join(\"../../contigs_freq/{}.fasta\".format(contig)), sep='\\t')\n",
    "    training.index = [x.replace(\"f\", \"\") for x in training.index]\n",
    "    #Decide what to use for NA\n",
    "    new_index = list()\n",
    "    for index in training.index:\n",
    "        if index == 'X':\n",
    "            new_index.append(\"000001\")\n",
    "        else:\n",
    "            new_index.append(index)\n",
    "    training.index = new_index\n",
    "    training.index = [float(\"{}.{}\".format(x[0], x[1:])) for x in training.index]\n",
    "    return list(training.index)\n",
    "\n",
    "def func_to_float(contig, map_dict):\n",
    "    '''\n",
    "    Uses a dictionary containing clustering data to\n",
    "    return a sequence of the clustering labels.\n",
    "    '''\n",
    "    # Training data:\n",
    "    func = pd.read_csv(os.path.join(\"../../contigs_func/{}.fasta\".format(contig)), sep='\\t')\n",
    "    func['clust'] = func.index.to_series().map(map_dict)\n",
    "    return func[\"clust\"].to_list()\n",
    "\n",
    "def equalize_length(array, size):\n",
    "    '''\n",
    "    Checks for each sequence of an array, if its in the correct length.\n",
    "    The sequence will be padded with zeros.\n",
    "    '''\n",
    "    for i in range(0, len(array)):\n",
    "        if len(array[i]) != size:\n",
    "            array[i] = np.concatenate([array[i], np.zeros(size-len(array[i]))])\n",
    "    return array\n",
    "\n",
    "def compress_labels(array, label_frame, label_size):\n",
    "    '''\n",
    "    It will convert a chunk sequence containing the label information\n",
    "    into a short sequence of a given length (label_size).\n",
    "    '''\n",
    "    pool = [[x,y] for x,y in zip(label_frame[\"start\"].to_list(), label_frame[\"end\"].to_list())]\n",
    "    final = []\n",
    "    \n",
    "    for element in array:\n",
    "        element = element[element != 0] \n",
    "        tmp = []\n",
    "        for i in range(0, len(element)):\n",
    "            try:\n",
    "                if [element[i], element[i+1]] in pool:\n",
    "                    tmp += [[element[i], element[i+1]]]\n",
    "            except IndexError:\n",
    "                pass\n",
    "        for i in range(0, label_size-len(tmp)):\n",
    "            tmp += [[0,0]]\n",
    "        final += [tmp]\n",
    "    return np.array(final)"
   ]
  },
  {
   "cell_type": "markdown",
   "metadata": {},
   "source": [
    "### Defining the sample (chunk/fragment) size and also the size of the overlap:"
   ]
  },
  {
   "cell_type": "code",
   "execution_count": 20,
   "metadata": {},
   "outputs": [],
   "source": [
    "SIZE = 25 # Chunk size\n",
    "STEP = 15 # Overlap size"
   ]
  },
  {
   "cell_type": "markdown",
   "metadata": {},
   "source": [
    "### Create three arrays containing all samples with the size and overlap defined above:\n",
    "1. Gene frequency array\n",
    "2. MCL clustering array\n",
    "3. Binary array indicating positions of composite transposable elements per sample"
   ]
  },
  {
   "cell_type": "code",
   "execution_count": 19,
   "metadata": {},
   "outputs": [],
   "source": [
    "all_files = [int(x.split('.')[0]) for x in os.listdir(\"../../contigs_freq/\") if not x.startswith('.')]\n",
    "\n",
    "counter = 0\n",
    "for i, file in enumerate(all_files):\n",
    "    A = freq_to_float(file) # frequency \n",
    "    \n",
    "    a = list(np.zeros(len(np.array(freq_to_float(file))))) # labels\n",
    "    test_labs = df_labels.loc[df_labels[\"contig_ID\"]==file]\n",
    "    for x, y in zip(test_labs[\"start\"].to_list(), test_labs[\"end\"].to_list()):\n",
    "        '''\n",
    "        Edited:\n",
    "        '''\n",
    "        for t in range(x, y+1):\n",
    "            a[t-1] = 1\n",
    "        #a[x-1] = 1\n",
    "        #a[y-1] = 1\n",
    "    \n",
    "    A = [A[i : i + SIZE] for i in range(0, len(A), STEP)]\n",
    "    a = [a[i : i + SIZE] for i in range(0, len(a), STEP)]\n",
    "   \n",
    "    A = equalize_length(A, SIZE)\n",
    "    a = equalize_length(a, SIZE)\n",
    "\n",
    "    for elem in a:\n",
    "        count = list(elem).count(1)\n",
    "        if count > counter:\n",
    "            counter = count\n",
    "    \n",
    "    ###############\n",
    "    ## MCL input ##\n",
    "    ###############\n",
    "    # mcl_dic = mapping dictionary\n",
    "    mcl = func_to_float(file, mcl_dic)\n",
    "    mcl = [mcl[i : i + SIZE] for i in range(0, len(mcl), STEP)]\n",
    "    mcl = equalize_length(mcl, SIZE)\n",
    "    mcl = np.array(mcl)\n",
    "    \n",
    "    \n",
    "    # Conversion to arrays:\n",
    "    # necessary? \n",
    "    A = np.array(A)\n",
    "    a = np.array(a)\n",
    "    '''\n",
    "    Edited\n",
    "    '''\n",
    "    #a = compress_labels(a, test_labs, 6)\n",
    "    if i == 0:\n",
    "        frequencies = A\n",
    "        mcls = mcl\n",
    "        labels = a\n",
    "        #print(np.sum(labels))\n",
    "    else:\n",
    "        frequencies = np.concatenate([frequencies, A])\n",
    "        mcls = np.concatenate([mcls, mcl])\n",
    "        labels = np.concatenate([labels, a])\n",
    "        #print(np.sum(labels))"
   ]
  },
  {
   "cell_type": "markdown",
   "metadata": {},
   "source": [
    "### Combine frequency and MCL cluster sequences of the chunk size into one flatten array:"
   ]
  },
  {
   "cell_type": "code",
   "execution_count": 21,
   "metadata": {},
   "outputs": [
    {
     "name": "stdout",
     "output_type": "stream",
     "text": [
      "(40372350,)\n",
      "The frequency data has a shape of (20186175,)\n",
      "The mcl data has a shape of (20186175,)\n",
      "The frequency and mcl cluster data has a shape of (807447, 25, 2)\n",
      "The label data has a shape of (807447, 25)\n"
     ]
    }
   ],
   "source": [
    "frequencies = frequencies.flatten()\n",
    "mcls = mcls.flatten()\n",
    "training = list()\n",
    "for freq, mcl in zip(frequencies, mcls):\n",
    "    training.append(freq)\n",
    "    training.append(mcl)\n",
    "training = np.array(training)\n",
    "print(training.shape)\n",
    "two_d_training = training.reshape(807447, 25, 2)\n",
    "print(\"The frequency data has a shape of {}\".format(frequencies.shape))\n",
    "print(\"The mcl data has a shape of {}\".format(mcls.shape))\n",
    "print(\"The frequency and mcl cluster data has a shape of {}\".format(two_d_training.shape))\n",
    "print(\"The label data has a shape of {}\".format(labels.shape))"
   ]
  },
  {
   "cell_type": "markdown",
   "metadata": {
    "tags": []
   },
   "source": [
    "## Outputs:"
   ]
  },
  {
   "cell_type": "markdown",
   "metadata": {},
   "source": [
    "### 1. Positive sample (containing a composite transposable element):"
   ]
  },
  {
   "cell_type": "code",
   "execution_count": null,
   "metadata": {},
   "outputs": [],
   "source": [
    "for sample, label in zip(two_d_training, labels):\n",
    "    if sum(label) != 0:\n",
    "        print(\"A positive sample:\")\n",
    "        print(\"Sample:\")\n",
    "        print(sample)\n",
    "        print(\"Label:\")\n",
    "        print(label)\n",
    "        break"
   ]
  },
  {
   "cell_type": "markdown",
   "metadata": {},
   "source": [
    "### 2. Negative sample (not containing a composite transposable element):"
   ]
  },
  {
   "cell_type": "code",
   "execution_count": null,
   "metadata": {},
   "outputs": [],
   "source": [
    "for sample, label in zip(two_d_training, labels):\n",
    "    if sum(label) == 0:\n",
    "        print(\"A positive sample:\")\n",
    "        print(\"Sample:\")\n",
    "        print(sample)\n",
    "        print(\"Label:\")\n",
    "        print(label)\n",
    "        break"
   ]
  },
  {
   "cell_type": "markdown",
   "metadata": {},
   "source": [
    "### Save the arrays as 1D-array:"
   ]
  },
  {
   "cell_type": "code",
   "execution_count": null,
   "metadata": {},
   "outputs": [],
   "source": [
    "def save_flat_arrays(where, array, name):\n",
    "    '''\n",
    "    Saves flattened np arrays\n",
    "    '''\n",
    "    np.savetxt(\"{}/{}.csv\".format(where, name), array, delimiter=',')\n",
    "    return "
   ]
  },
  {
   "cell_type": "code",
   "execution_count": null,
   "metadata": {},
   "outputs": [],
   "source": [
    "save_flat_arrays(\"arrays\", frequencies.flatten(), \"frequencies\")\n",
    "save_flat_arrays(\"arrays\", two_d_training.flatten(), \"2D_freq_mcl\")\n",
    "save_flat_arrays(\"arrays\", labels.flatten(), \"labels\")"
   ]
  }
 ],
 "metadata": {
  "kernelspec": {
   "display_name": "Python 3",
   "language": "python",
   "name": "python3"
  },
  "language_info": {
   "codemirror_mode": {
    "name": "ipython",
    "version": 3
   },
   "file_extension": ".py",
   "mimetype": "text/x-python",
   "name": "python",
   "nbconvert_exporter": "python",
   "pygments_lexer": "ipython3",
   "version": "3.8.5"
  }
 },
 "nbformat": 4,
 "nbformat_minor": 4
}
